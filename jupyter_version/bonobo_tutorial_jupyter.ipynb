{
 "cells": [
  {
   "cell_type": "code",
   "execution_count": 1,
   "metadata": {},
   "outputs": [],
   "source": [
    "import bonobo\n",
    "import requests\n",
    "from bonobo.config import use_context_processor\n",
    "from bonobo.config import use"
   ]
  },
  {
   "cell_type": "code",
   "execution_count": 2,
   "metadata": {},
   "outputs": [],
   "source": [
    "FABLABS_API_URL = 'https://public-us.opendatasoft.com/api/records/1.0/search/?dataset=fablabs&rows=1000'\n"
   ]
  },
  {
   "cell_type": "code",
   "execution_count": 3,
   "metadata": {},
   "outputs": [],
   "source": [
    "@use('http')\n",
    "def extract_fablabs(http):\n",
    "    yield from http.get(FABLABS_API_URL).json().get('records')\n",
    "\n",
    "\n",
    "def with_opened_file(self, context):\n",
    "    with open('output.txt', 'w+') as f:\n",
    "        yield f\n",
    "\n",
    "\n",
    "@use_context_processor(with_opened_file)\n",
    "def write_repr_to_file(f, *row):\n",
    "    f.write(repr(row) + \"\\n\")\n",
    "\n",
    "\n",
    "def get_graph(**options):\n",
    "    graph = bonobo.Graph()\n",
    "    graph.add_chain(\n",
    "        extract_fablabs,\n",
    "        bonobo.Limit(5),\n",
    "        write_repr_to_file,\n",
    "    )\n",
    "    return graph\n",
    "\n",
    "\n",
    "def get_services():\n",
    "    http = requests.Session()\n",
    "    http.headers = {'User-Agent': 'Monkeys!'}\n",
    "    return {\n",
    "        'http': http\n",
    "    }\n"
   ]
  },
  {
   "cell_type": "code",
   "execution_count": 5,
   "metadata": {},
   "outputs": [
    {
     "data": {
      "application/vnd.jupyter.widget-view+json": {
       "model_id": "2670fc19273d4b3293961c4114f9d191",
       "version_major": 2,
       "version_minor": 0
      },
      "text/plain": [
       "BonoboWidget()"
      ]
     },
     "metadata": {},
     "output_type": "display_data"
    },
    {
     "data": {
      "text/plain": [
       "<bonobo.execution.contexts.graph.GraphExecutionContext at 0x105ceedd0>"
      ]
     },
     "execution_count": 5,
     "metadata": {},
     "output_type": "execute_result"
    }
   ],
   "source": [
    "bonobo.run(get_graph(), services=get_services())"
   ]
  },
  {
   "cell_type": "code",
   "execution_count": null,
   "metadata": {},
   "outputs": [],
   "source": []
  }
 ],
 "metadata": {
  "kernelspec": {
   "display_name": "Python 3",
   "language": "python",
   "name": "python3"
  },
  "language_info": {
   "codemirror_mode": {
    "name": "ipython",
    "version": 3
   },
   "file_extension": ".py",
   "mimetype": "text/x-python",
   "name": "python",
   "nbconvert_exporter": "python",
   "pygments_lexer": "ipython3",
   "version": "3.7.4"
  }
 },
 "nbformat": 4,
 "nbformat_minor": 2
}
