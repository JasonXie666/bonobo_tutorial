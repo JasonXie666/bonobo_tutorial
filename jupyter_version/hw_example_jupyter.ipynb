{
 "cells": [
  {
   "cell_type": "code",
   "execution_count": 1,
   "metadata": {},
   "outputs": [],
   "source": [
    "import csv\n",
    "import bonobo\n",
    "import pandas as pd\n",
    "from bonobo.config import use_context_processor\n",
    "\n",
    "\n",
    "def extract():\n",
    "    yield from data.itertuples()\n",
    "\n",
    "\n",
    "# map the terms(e.g. LandSlope) to full-term in dictionary\n",
    "def transform(*args):\n",
    "    # get the index for the columns that you want to look up\n",
    "    args = list(args)\n",
    "\n",
    "    # filter out the rows (yearbuilt < 1980)\n",
    "    idx0 = category_dict['YearBuilt'] + 1\n",
    "    if int(args[idx0]) < 1980:\n",
    "        return None\n",
    "\n",
    "    # TODO: you need to replace two or three abbreviations\n",
    "    \n",
    "    # plus 1 because the first element of args is the system idx\n",
    "    idx1 = category_dict['LandSlope'] + 1\n",
    "    # replace the tuple values\n",
    "    args[idx1] = term_dictionary[args[idx1]]\n",
    "    return args[1:]\n",
    "\n",
    "\n",
    "# function for writing to the files\n",
    "def with_opened_file(self, context):\n",
    "    with open('output/output_lotinfo.csv', 'w+') as f1:\n",
    "        wr1 = csv.writer(f1, delimiter=',')\n",
    "        yield wr1\n",
    "\n",
    "# decorator is used here: every time we open the file, and append row to the existing rows, instead of overwriting it\n",
    "@use_context_processor(with_opened_file)\n",
    "def write_repr_to_file(wr1, *row):\n",
    "    global first_line_written\n",
    "    # uncomment to see why I need to replace \"[\" and \"]\"\n",
    "    # f.write(repr(row))\n",
    "    if row is None:\n",
    "        return\n",
    "\n",
    "    if not first_line_written:\n",
    "        wr1.writerow([category_list[a] for a in lotinfo_idx])\n",
    "\n",
    "    tuples_lotinfo = [row[0][a] for a in lotinfo_idx]\n",
    "    wr1.writerow(tuples_lotinfo)\n",
    "\n",
    "    first_line_written = True\n",
    "\n",
    "\n",
    "def getdict():\n",
    "    d = defaultdict(lambda: \"NA\")\n",
    "    input_file = open(\"data_description.txt\")\n",
    "    for line in input_file:\n",
    "        information = line.split('\\t')\n",
    "        # get rid of the information-less tuples\n",
    "        if len(information) < 2 or information[0].strip().startswith('\\n') or len(information[0])==0 or not information[0].startswith(' '):\n",
    "            continue\n",
    "        # build the dictionary from the tuples with data cleaning\n",
    "        term = information[0].strip()\n",
    "        desri = information[1].strip()\n",
    "        d[term] = desri\n",
    "    return d\n",
    "\n",
    "\n",
    "# write dictionary to csv file\n",
    "# output: two column data dictionary csv file\n",
    "def write_dict_to_csv():\n",
    "    with open('output/term_dict.csv', 'w') as f:\n",
    "        f.write('Abbreviation,Description\\n')\n",
    "        for key in term_dictionary.keys():\n",
    "            f.write(\"%s,%s\\n\" % (key, term_dictionary[key]))\n",
    "            "
   ]
  },
  {
   "cell_type": "code",
   "execution_count": 4,
   "metadata": {},
   "outputs": [
    {
     "name": "stdout",
     "output_type": "stream",
     "text": [
      "defaultdict(None, {'Id': 0, 'MSSubClass': 1, 'MSZoning': 2, 'LotFrontage': 3, 'LotArea': 4, 'Street': 5, 'Alley': 6, 'LotShape': 7, 'LandContour': 8, 'Utilities': 9, 'LotConfig': 10, 'LandSlope': 11, 'Neighborhood': 12, 'Condition1': 13, 'Condition2': 14, 'BldgType': 15, 'HouseStyle': 16, 'OverallQual': 17, 'OverallCond': 18, 'YearBuilt': 19, 'YearRemodAdd': 20, 'RoofStyle': 21, 'RoofMatl': 22, 'Exterior1st': 23, 'Exterior2nd': 24, 'MasVnrType': 25, 'MasVnrArea': 26, 'ExterQual': 27, 'ExterCond': 28, 'Foundation': 29, 'BsmtQual': 30, 'BsmtCond': 31, 'BsmtExposure': 32, 'BsmtFinType1': 33, 'BsmtFinSF1': 34, 'BsmtFinType2': 35, 'BsmtFinSF2': 36, 'BsmtUnfSF': 37, 'TotalBsmtSF': 38, 'Heating': 39, 'HeatingQC': 40, 'CentralAir': 41, 'Electrical': 42, '1stFlrSF': 43, '2ndFlrSF': 44, 'LowQualFinSF': 45, 'GrLivArea': 46, 'BsmtFullBath': 47, 'BsmtHalfBath': 48, 'FullBath': 49, 'HalfBath': 50, 'BedroomAbvGr': 51, 'KitchenAbvGr': 52, 'KitchenQual': 53, 'TotRmsAbvGrd': 54, 'Functional': 55, 'Fireplaces': 56, 'FireplaceQu': 57, 'GarageType': 58, 'GarageYrBlt': 59, 'GarageFinish': 60, 'GarageCars': 61, 'GarageArea': 62, 'GarageQual': 63, 'GarageCond': 64, 'PavedDrive': 65, 'WoodDeckSF': 66, 'OpenPorchSF': 67, 'EnclosedPorch': 68, '3SsnPorch': 69, 'ScreenPorch': 70, 'PoolArea': 71, 'PoolQC': 72, 'Fence': 73, 'MiscFeature': 74, 'MiscVal': 75, 'MoSold': 76, 'YrSold': 77, 'SaleType': 78, 'SaleCondition': 79, 'SalePrice': 80})\n",
      "defaultdict(<function getdict.<locals>.<lambda> at 0x11915e0e0>, {'20': '1-STORY 1946 & NEWER ALL STYLES', '30': '1-STORY 1945 & OLDER', '40': '1-STORY W/FINISHED ATTIC ALL AGES', '45': '1-1/2 STORY - UNFINISHED ALL AGES', '50': '1-1/2 STORY FINISHED ALL AGES', '60': '2-STORY 1946 & NEWER', '70': '2-STORY 1945 & OLDER', '75': '2-1/2 STORY ALL AGES', '80': 'SPLIT OR MULTI-LEVEL', '85': 'SPLIT FOYER', '90': 'DUPLEX - ALL STYLES AND AGES', '120': '1-STORY PUD (Planned Unit Development) - 1946 & NEWER', '150': '1-1/2 STORY PUD - ALL AGES', '160': '2-STORY PUD - 1946 & NEWER', '180': 'PUD - MULTILEVEL - INCL SPLIT LEV/FOYER', '190': '2 FAMILY CONVERSION - ALL STYLES AND AGES', 'A': 'Agriculture', 'C': 'Commercial', 'FV': 'Floating Village Residential', 'I': 'Industrial', 'RH': 'Residential High Density', 'RL': 'Residential Low Density', 'RP': 'Residential Low Density Park', 'RM': 'Residential Medium Density', 'Grvl': 'Gravel', 'Pave': 'Paved', '': '', 'NA': 'None', 'Reg': 'Regular', 'IR1': 'Slightly irregular', 'IR2': 'Moderately Irregular', 'IR3': 'Irregular', 'Lvl': 'Near Flat/Level', 'Bnk': 'Banked - Quick and significant rise from street grade to building', 'HLS': 'Hillside - Significant slope from side to side', 'Low': 'Depression', 'AllPub': 'All public Utilities (E,G,W,& S)', 'NoSewr': 'Electricity, Gas, and Water (Septic Tank)', 'NoSeWa': 'Electricity and Gas Only', 'ELO': 'Electricity only', 'Inside': 'Inside lot', 'Corner': 'Corner lot', 'CulDSac': 'Cul-de-sac', 'FR2': 'Frontage on 2 sides of property', 'FR3': 'Frontage on 3 sides of property', 'Gtl': 'Gentle slope', 'Mod': 'Moderate Deductions', 'Sev': 'Severely Damaged', 'Blmngtn': 'Bloomington Heights', 'Blueste': 'Bluestem', 'BrDale': 'Briardale', 'BrkSide': 'Brookside', 'ClearCr': 'Clear Creek', 'CollgCr': 'College Creek', 'Crawfor': 'Crawford', 'Edwards': 'Edwards', 'Gilbert': 'Gilbert', 'IDOTRR': 'Iowa DOT and Rail Road', 'MeadowV': 'Meadow Village', 'Mitchel': 'Mitchell', 'Names': 'North Ames', 'NoRidge': 'Northridge', 'NPkVill': 'Northpark Villa', 'NridgHt': 'Northridge Heights', 'NWAmes': 'Northwest Ames', 'OldTown': 'Old Town', 'SWISU': 'South & West of Iowa State University', 'Sawyer': 'Sawyer', 'SawyerW': 'Sawyer West', 'Somerst': 'Somerset', 'StoneBr': 'Stone Brook', 'Timber': 'Timberland', 'Veenker': 'Veenker', 'Artery': 'Adjacent to arterial street', 'Feedr': 'Adjacent to feeder street', 'Norm': 'Normal', 'RRNn': \"Within 200' of North-South Railroad\", 'RRAn': 'Adjacent to North-South Railroad', 'PosN': 'Near positive off-site feature--park, greenbelt, etc.', 'PosA': 'Adjacent to postive off-site feature', 'RRNe': \"Within 200' of East-West Railroad\", 'RRAe': 'Adjacent to East-West Railroad', '1Fam': 'Single-family Detached', '2FmCon': 'Two-family Conversion; originally built as one-family dwelling', 'Duplx': 'Duplex', 'TwnhsE': 'Townhouse End Unit', 'TwnhsI': 'Townhouse Inside Unit', '1Story': 'One story', '1.5Fin': 'One and one-half story: 2nd level finished', '1.5Unf': 'One and one-half story: 2nd level unfinished', '2Story': 'Two story', '2.5Fin': 'Two and one-half story: 2nd level finished', '2.5Unf': 'Two and one-half story: 2nd level unfinished', 'SFoyer': 'Split Foyer', 'SLvl': 'Split Level', '10': 'Very Excellent', '9': 'Excellent', '8': 'Very Good', '7': 'Good', '6': 'Above Average', '5': 'Average', '4': 'Below Average', '3': 'Fair', '2': 'Poor', '1': 'Very Poor', 'Flat': 'Flat', 'Gable': 'Gable', 'Gambrel': 'Gabrel (Barn)', 'Hip': 'Hip', 'Mansard': 'Mansard', 'Shed': 'Shed (over 100 SF)', 'ClyTile': 'Clay or Tile', 'CompShg': 'Standard (Composite) Shingle', 'Membran': 'Membrane', 'Metal': 'Metal', 'Roll': 'Roll', 'Tar&Grv': 'Gravel & Tar', 'WdShake': 'Wood Shakes', 'WdShngl': 'Wood Shingles', 'AsbShng': 'Asbestos Shingles', 'AsphShn': 'Asphalt Shingles', 'BrkComm': 'Brick Common', 'BrkFace': 'Brick Face', 'CBlock': 'Cinder Block', 'CemntBd': 'Cement Board', 'HdBoard': 'Hard Board', 'ImStucc': 'Imitation Stucco', 'MetalSd': 'Metal Siding', 'Other': 'Other', 'Plywood': 'Plywood', 'PreCast': 'PreCast', 'Stone': 'Stone', 'Stucco': 'Stucco', 'VinylSd': 'Vinyl Siding', 'Wd Sdng': 'Wood Siding', 'WdShing': 'Wood Shingles', 'BrkCmn': 'Brick Common', 'None': 'None', 'Ex': 'Excellent', 'Gd': 'Good', 'TA': 'Average/Typical', 'Fa': 'Fair', 'Po': 'Poor', 'BrkTil': 'Brick & Tile', 'PConc': 'Poured Contrete', 'Slab': 'Slab', 'Wood': 'Wood', 'Av': 'Average Exposure (split levels or foyers typically score average or above)', 'Mn': 'Mimimum Exposure', 'No': 'No Exposure', 'GLQ': 'Good Living Quarters', 'ALQ': 'Average Living Quarters', 'BLQ': 'Below Average Living Quarters', 'Rec': 'Average Rec Room', 'LwQ': 'Low Quality', 'Unf': 'Unfinished', 'Floor': 'Floor Furnace', 'GasA': 'Gas forced warm air furnace', 'GasW': 'Gas hot water or steam heat', 'Grav': 'Gravity furnace', 'OthW': 'Hot water or steam heat other than gas', 'Wall': 'Wall furnace', 'N': 'Dirt/Gravel', 'Y': 'Paved', 'SBrkr': 'Standard Circuit Breakers & Romex', 'FuseA': 'Fuse Box over 60 AMP and all Romex wiring (Average)', 'FuseF': '60 AMP Fuse Box and mostly Romex wiring (Fair)', 'FuseP': '60 AMP Fuse Box and mostly knob & tube wiring (poor)', 'Mix': 'Mixed', 'Typ': 'Typical Functionality', 'Min1': 'Minor Deductions 1', 'Min2': 'Minor Deductions 2', 'Maj1': 'Major Deductions 1', 'Maj2': 'Major Deductions 2', 'Sal': 'Salvage only', '2Types': 'More than one type of garage', 'Attchd': 'Attached to home', 'Basment': 'Basement Garage', 'BuiltIn': 'Built-In (Garage part of house - typically has room above garage)', 'CarPort': 'Car Port', 'Detchd': 'Detached from home', 'Fin': 'Finished', 'RFn': 'Rough Finished', 'P': 'Partial Pavement', 'GdPrv': 'Good Privacy', 'MnPrv': 'Minimum Privacy', 'GdWo': 'Good Wood', 'MnWw': 'Minimum Wood/Wire', 'Elev': 'Elevator', 'Gar2': '2nd Garage (if not described in garage section)', 'Othr': 'Other', 'TenC': 'Tennis Court', 'WD': 'Warranty Deed - Conventional', 'CWD': 'Warranty Deed - Cash', 'VWD': 'Warranty Deed - VA Loan', 'New': 'Home just constructed and sold', 'COD': 'Court Officer Deed/Estate', 'Con': 'Contract 15% Down payment regular terms', 'ConLw': 'Contract Low Down payment and low interest', 'ConLI': 'Contract Low Interest', 'ConLD': 'Contract Low Down', 'Oth': 'Other', 'Normal': 'Normal Sale', 'Abnorml': 'Abnormal Sale -  trade, foreclosure, short sale', 'AdjLand': 'Adjoining Land Purchase', 'Alloca': 'Allocation - two linked properties with separate deeds, typically condo with a garage unit', 'Family': 'Sale between family members', 'Partial': 'Home was not completed when last assessed (associated with New Homes)'})\n"
     ]
    },
    {
     "data": {
      "application/vnd.jupyter.widget-view+json": {
       "model_id": "ef57141343cc4ba5969f819ad2f75c89",
       "version_major": 2,
       "version_minor": 0
      },
      "text/plain": [
       "BonoboWidget()"
      ]
     },
     "metadata": {},
     "output_type": "display_data"
    },
    {
     "data": {
      "text/plain": [
       "<bonobo.execution.contexts.graph.GraphExecutionContext at 0x1189ddb50>"
      ]
     },
     "execution_count": 4,
     "metadata": {},
     "output_type": "execute_result"
    }
   ],
   "source": [
    "from collections import defaultdict\n",
    "\n",
    "# default setting\n",
    "first_line_written = False\n",
    "\n",
    "# prepare for the data\n",
    "data = pd.read_csv('train.csv', encoding='ISO-8859-1')\n",
    "\n",
    "# construct category dictionary (map the category to index)\n",
    "category_dict = defaultdict()\n",
    "category_list = data.columns.tolist()\n",
    "for i in range(len(category_list)):\n",
    "    category_dict[category_list[i]] = i\n",
    "print(category_dict)\n",
    "\n",
    "# construct the terms dictionary (get the dict from data descriptions file)\n",
    "term_dictionary = getdict()\n",
    "print(term_dictionary)\n",
    "\n",
    "# write the terms dictionary into two-column csv\n",
    "write_dict_to_csv()\n",
    "\n",
    "# divide the table into 3 sub-tables\n",
    "# TODO: The index needs to be changed according to the requirements\n",
    "lotinfo_idx = [0,1,2,3,4,5,6,7,8,9,10]\n",
    "\n",
    "# build Bonobo pipeline\n",
    "graph = bonobo.Graph()\n",
    "graph.add_chain(\n",
    "    extract,\n",
    "    # the transform step will replace the abbr. with its full description\n",
    "    transform,\n",
    "    bonobo.Limit(100),\n",
    "    write_repr_to_file,\n",
    ")\n",
    "bonobo.run(graph)"
   ]
  },
  {
   "cell_type": "code",
   "execution_count": null,
   "metadata": {},
   "outputs": [],
   "source": []
  }
 ],
 "metadata": {
  "kernelspec": {
   "display_name": "Python 3",
   "language": "python",
   "name": "python3"
  },
  "language_info": {
   "codemirror_mode": {
    "name": "ipython",
    "version": 3
   },
   "file_extension": ".py",
   "mimetype": "text/x-python",
   "name": "python",
   "nbconvert_exporter": "python",
   "pygments_lexer": "ipython3",
   "version": "3.7.4"
  }
 },
 "nbformat": 4,
 "nbformat_minor": 2
}
